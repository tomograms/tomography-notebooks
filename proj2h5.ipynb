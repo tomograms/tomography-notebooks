{
 "cells": [
  {
   "cell_type": "code",
   "execution_count": 16,
   "metadata": {},
   "outputs": [],
   "source": [
    "import dxchange\n",
    "import numpy as np\n",
    "import h5py"
   ]
  },
  {
   "cell_type": "code",
   "execution_count": 17,
   "metadata": {},
   "outputs": [],
   "source": [
    "fname = '/data/staff/tomograms/experiments/TOMCAT/Lund_lungs/h11913_4_3/tif/h11913_4_3_'\n",
    "foutname = 'h11913_4_3.h5'"
   ]
  },
  {
   "cell_type": "code",
   "execution_count": 18,
   "metadata": {},
   "outputs": [],
   "source": [
    "size_proj = [1801, 1562, 2560]\n",
    "size_flat = [100, 1562, 2560]\n",
    "size_dark = [30, 1562, 2560]\n",
    "sproj = 128 # number of slices that fit to operating memory"
   ]
  },
  {
   "cell_type": "code",
   "execution_count": 19,
   "metadata": {},
   "outputs": [],
   "source": [
    "fid = h5py.File(foutname, mode='w')\n",
    "projh5 = fid.create_dataset('exchange/data', size_proj, dtype='uint16')\n",
    "flath5 = fid.create_dataset('exchange/data_flat', size_flat, dtype='uint16')\n",
    "darkh5 = fid.create_dataset('exchange/data_dark', size_dark, dtype='uint16')"
   ]
  },
  {
   "cell_type": "code",
   "execution_count": 20,
   "metadata": {},
   "outputs": [
    {
     "name": "stderr",
     "output_type": "stream",
     "text": [
      "/opt/conda/envs/tomorec-kernel-environment/lib/python3.7/site-packages/ipykernel_launcher.py:1: DeprecationWarning: `np.int` is a deprecated alias for the builtin `int`. To silence this warning, use `int` by itself. Doing this will not modify any behavior and is safe. When replacing `np.int`, you may wish to use e.g. `np.int64` or `np.int32` to specify the precision. If you wish to review your current use, check the release note link for additional information.\n",
      "Deprecated in NumPy 1.20; for more details and guidance: https://numpy.org/devdocs/release/1.20.0-notes.html#deprecations\n",
      "  \"\"\"Entry point for launching an IPython kernel.\n"
     ]
    },
    {
     "name": "stdout",
     "output_type": "stream",
     "text": [
      "converting slices 0 .. 128\n",
      "converting slices 128 .. 256\n",
      "converting slices 256 .. 384\n",
      "converting slices 384 .. 512\n",
      "converting slices 512 .. 640\n",
      "converting slices 640 .. 768\n",
      "converting slices 768 .. 896\n",
      "converting slices 896 .. 1024\n",
      "converting slices 1024 .. 1152\n",
      "converting slices 1152 .. 1280\n",
      "converting slices 1280 .. 1408\n",
      "converting slices 1408 .. 1536\n",
      "converting slices 1536 .. 1562\n"
     ]
    }
   ],
   "source": [
    "for k in range(0, np.int(np.ceil(size_proj[1]/sproj))):\n",
    "   start = k*sproj\n",
    "   end = min((k+1)*sproj, size_proj[1])\n",
    "   print(\"converting slices %d .. %d\" % (start, end))\n",
    "   proj, flat, dark = dxchange.read_sls_tomcat(fname, sino=(start, end))\n",
    "   projh5[:, start:end, :] = proj\n",
    "   flath5[:, start:end, :] = flat\n",
    "   darkh5[:, start:end, :] = dark\n",
    "\n",
    "fid.close()"
   ]
  },
  {
   "cell_type": "code",
   "execution_count": null,
   "metadata": {},
   "outputs": [],
   "source": []
  }
 ],
 "metadata": {
  "kernelspec": {
   "display_name": "Tomography / Tomorec / GPU",
   "language": "python",
   "name": "maxiv-jhub-docker-kernel-tomography-tomorec"
  },
  "language_info": {
   "codemirror_mode": {
    "name": "ipython",
    "version": 3
   },
   "file_extension": ".py",
   "mimetype": "text/x-python",
   "name": "python",
   "nbconvert_exporter": "python",
   "pygments_lexer": "ipython3",
   "version": "3.7.6"
  }
 },
 "nbformat": 4,
 "nbformat_minor": 4
}
