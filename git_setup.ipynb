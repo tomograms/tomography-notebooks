{
 "cells": [
  {
   "cell_type": "code",
   "execution_count": null,
   "metadata": {},
   "outputs": [],
   "source": [
    "# Configure git user settings\n",
    "!git config --global user.name \"Your Name\"\n",
    "!git config --global user.email \"your_email@example.com\"\n",
    "!git config -l"
   ]
  },
  {
   "cell_type": "code",
   "execution_count": null,
   "metadata": {},
   "outputs": [],
   "source": [
    "# Configure git to only use ssh (note the domain - change to gitlab if your repo is there)\n",
    "!git config --global url.\"git@github.com:\".insteadOf \"https://github.com/\"\n",
    "!git config -l"
   ]
  },
  {
   "cell_type": "code",
   "execution_count": null,
   "metadata": {},
   "outputs": [],
   "source": [
    "# Check if any SSH keys exists\n",
    "!ls -la ~/.ssh\n",
    "\n",
    "# If you found any and would like to use them, you can skip the next step with creating and \n",
    "# directly add them to the ssh-agent. They normally have names along \"id_someletters.pub\" \n",
    "# e.g. \"id_rsa\", \"id_ecdsa\", \"id_ed25519\" and \"id_dsa\". \n",
    "\n",
    "# You could also delete them if you don't know why they exist or if you don't use them. \n",
    "# The following will delete ALL keys:\n",
    "# !rm ~/.ssh/id_* && ls -la ~/.ssh\n",
    "# To delete a specific key change the '*' to the actual name of the key you want to remove."
   ]
  },
  {
   "cell_type": "code",
   "execution_count": null,
   "metadata": {},
   "outputs": [],
   "source": [
    "# Create a RSA SSH key (assuming it doesn't exist)\n",
    "!ssh-keygen -t rsa -b 4096 -C \"your_email@example.com\" -N \"\" -f ~/.ssh/id_rsa"
   ]
  },
  {
   "cell_type": "code",
   "execution_count": null,
   "metadata": {},
   "outputs": [],
   "source": [
    "# Adding your SSH key to the ssh-agent\n",
    "!eval \"$(ssh-agent -s)\"\n",
    "!ssh-add ~/.ssh/id_rsa"
   ]
  },
  {
   "cell_type": "code",
   "execution_count": null,
   "metadata": {},
   "outputs": [],
   "source": [
    "# Display your public key\n",
    "!cat ~/.ssh/id_rsa.pub"
   ]
  },
  {
   "cell_type": "code",
   "execution_count": null,
   "metadata": {},
   "outputs": [],
   "source": [
    "# Copy the whole key above and add it your git organization with a link below\n",
    "# Gitlab on MAX IV: https://gitlab.maxiv.lu.se/profile/keys\n",
    "# Github: https://github.com/settings/ssh/new"
   ]
  },
  {
   "cell_type": "code",
   "execution_count": null,
   "metadata": {},
   "outputs": [],
   "source": [
    "# If you run into problems, full SSH guides are available here:\n",
    "# Gitlab: https://docs.gitlab.com/ee/ssh/\n",
    "# Github: https://help.github.com/en/articles/connecting-to-github-with-ssh"
   ]
  }
 ],
 "metadata": {
  "kernelspec": {
   "display_name": "Python 3",
   "language": "python",
   "name": "python3"
  },
  "language_info": {
   "codemirror_mode": {
    "name": "ipython",
    "version": 3
   },
   "file_extension": ".py",
   "mimetype": "text/x-python",
   "name": "python",
   "nbconvert_exporter": "python",
   "pygments_lexer": "ipython3",
   "version": "3.7.1"
  }
 },
 "nbformat": 4,
 "nbformat_minor": 2
}
